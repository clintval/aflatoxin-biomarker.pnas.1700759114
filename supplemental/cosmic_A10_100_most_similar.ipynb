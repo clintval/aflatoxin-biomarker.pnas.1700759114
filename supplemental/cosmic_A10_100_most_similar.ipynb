{
 "cells": [
  {
   "cell_type": "code",
   "execution_count": 1,
   "metadata": {
    "collapsed": false
   },
   "outputs": [],
   "source": [
    "%load_ext autoreload\n",
    "%autoreload 2"
   ]
  },
  {
   "cell_type": "code",
   "execution_count": 2,
   "metadata": {
    "collapsed": false
   },
   "outputs": [],
   "source": [
    "from siglib.utils import load_dataset\n",
    "\n",
    "cutoff = 100\n",
    "notation = 'pyrimidine'\n",
    "hg38_path = '/home/clint/buffalo/hg38/hg38.fa'\n",
    "cosmic_mutants = '/home/clint/buffalo/cosmic/v76/CosmicMutantExport.tsv'\n",
    "C10 = load_dataset('aflatoxin_10wk_average').values.flatten().tolist()"
   ]
  },
  {
   "cell_type": "markdown",
   "metadata": {},
   "source": [
    "Load Human Genome into Memory for Fast Random Access\n",
    "==="
   ]
  },
  {
   "cell_type": "code",
   "execution_count": 3,
   "metadata": {
    "collapsed": false,
    "scrolled": true
   },
   "outputs": [],
   "source": [
    "from siglib.utils import fasta_to_dict\n",
    "\n",
    "hg38_path = '/home/clint/buffalo/hg38/hg38.fa'\n",
    "hg38 = fasta_to_dict(hg38_path)"
   ]
  },
  {
   "cell_type": "markdown",
   "metadata": {},
   "source": [
    "Parse all 301,076 COSMIC Samples\n",
    "==="
   ]
  },
  {
   "cell_type": "code",
   "execution_count": 4,
   "metadata": {
    "collapsed": false
   },
   "outputs": [],
   "source": [
    "from siglib.cosmic import parse_to_samples\n",
    "\n",
    "samples = parse_to_samples(cosmic_mutants)"
   ]
  },
  {
   "cell_type": "markdown",
   "metadata": {},
   "source": [
    "Merge Samples from Same Tumours (digital replicates?)\n",
    "===\n",
    "\n",
    "1. Preserves clinical annotations (fills in data when missing)\n",
    "2. Removes redundant mutations *per* sample as identified  by their COSMIC ID\n",
    "3. Removes samples with less than `cutoff` mutations"
   ]
  },
  {
   "cell_type": "code",
   "execution_count": 5,
   "metadata": {
    "collapsed": false
   },
   "outputs": [
    {
     "name": "stdout",
     "output_type": "stream",
     "text": [
      "6875 Samples after Merging and Filtering\n"
     ]
    }
   ],
   "source": [
    "from siglib.cosmic import merge_samples\n",
    "\n",
    "merged_samples = merge_samples(samples, cutoff=cutoff)\n",
    "print('{} Samples after Merging and Filtering'.format(len(merged_samples)))"
   ]
  },
  {
   "cell_type": "markdown",
   "metadata": {},
   "source": [
    "Generate Trinucleotide Spectra for each Tumour Sample\n",
    "===\n",
    "\n",
    "1. Exome is used as trinucleotide normal\n",
    "2. Mutations must be confirmed substitutions against GRCh v38\n",
    "3. Mutations must come from the 23 chromosomes\n",
    "4. Similarity to C10 is computed as `1 - cosine_distance`"
   ]
  },
  {
   "cell_type": "code",
   "execution_count": 6,
   "metadata": {
    "collapsed": false,
    "scrolled": false
   },
   "outputs": [
    {
     "name": "stdout",
     "output_type": "stream",
     "text": [
      "Completed sample: 0\n",
      "Completed sample: 1000\n",
      "Completed sample: 2000\n",
      "Completed sample: 3000\n",
      "Completed sample: 4000\n",
      "Completed sample: 5000\n",
      "Completed sample: 6000\n"
     ]
    }
   ],
   "source": [
    "from itertools import product\n",
    "from siglib.jellywrap import jellywrap\n",
    "from siglib.utils import spectrum_dict\n",
    "from siglib.utils import dna_bases, substitution_label\n",
    "\n",
    "from scipy.spatial.distance import cosine\n",
    "\n",
    "merfile = '/home/clint/essigmann_analysis/mouse/data/9606_exons.jf'\n",
    "\n",
    "j = jellywrap()\n",
    "normal = dict(zip(*j.read_mer_file(merfile, notation=notation)))\n",
    "\n",
    "for i, sample in enumerate(merged_samples.values()):\n",
    "    if i % 1000 == 0: print('Completed sample: {}'.format(i));\n",
    "    \n",
    "    sample.spectrum = spectrum_dict(notation=notation)\n",
    "    sample.total_mutations = 0\n",
    "    sample.similarity = 0\n",
    "    \n",
    "    for mutation in sample.mutations:\n",
    "        if (\n",
    "                mutation.chrom != '' and\n",
    "                mutation.chrom not in ['', 'chr25'] and\n",
    "                mutation.GRCh == '38' and\n",
    "                'Substitution' in mutation.description and\n",
    "                'Confirmed' in mutation.somatic_status\n",
    "           ):\n",
    "            \n",
    "            mutation.set_context(hg38, notation=notation)\n",
    "            \n",
    "        if (\n",
    "                hasattr(mutation, 'label') and\n",
    "                mutation.label != ''\n",
    "            ):\n",
    "        \n",
    "            sample.spectrum[mutation.label] += 1\n",
    "            sample.total_mutations += 1\n",
    "\n",
    "    if sample.total_mutations == 0:\n",
    "        continue\n",
    "    \n",
    "    # Normalize spectrum if num_mutations > 0\n",
    "    for key, base in list(product(normal, dna_bases)):\n",
    "        if base == key[1]:\n",
    "            continue\n",
    "        label = substitution_label.from_parts(''.join([key[1], '>', base]), key)\n",
    "\n",
    "        sample.spectrum[label] = sample.spectrum[label] / normal[key]\n",
    "    \n",
    "    total = sum(sample.spectrum.values())\n",
    "\n",
    "    # Rescale\n",
    "    for key, value in sample.spectrum.items():\n",
    "        sample.spectrum[key] = value / total\n",
    "        \n",
    "    # Compute distance from C10\n",
    "    sample.similarity = 1 - cosine(C10, list(sample.spectrum.values()))"
   ]
  },
  {
   "cell_type": "code",
   "execution_count": 7,
   "metadata": {
    "collapsed": false
   },
   "outputs": [
    {
     "data": {
      "text/plain": [
       "0"
      ]
     },
     "execution_count": 7,
     "metadata": {},
     "output_type": "execute_result"
    }
   ],
   "source": [
    "del hg38\n",
    "import gc\n",
    "gc.collect()"
   ]
  },
  {
   "cell_type": "markdown",
   "metadata": {},
   "source": [
    "Create Trinucleotide Spectra Figures\n",
    "===\n",
    "\n"
   ]
  },
  {
   "cell_type": "code",
   "execution_count": 9,
   "metadata": {
    "collapsed": false,
    "scrolled": false
   },
   "outputs": [
    {
     "name": "stdout",
     "output_type": "stream",
     "text": [
      "Completed Figure 0\n",
      "Completed Figure 5\n",
      "Completed Figure 10\n",
      "Completed Figure 15\n",
      "Completed Figure 20\n",
      "Completed Figure 25\n",
      "Completed Figure 30\n",
      "Completed Figure 35\n",
      "Completed Figure 40\n",
      "Completed Figure 45\n",
      "Completed Figure 50\n",
      "Completed Figure 55\n",
      "Completed Figure 60\n",
      "Completed Figure 65\n",
      "Completed Figure 70\n",
      "Completed Figure 75\n",
      "Completed Figure 80\n",
      "Completed Figure 85\n",
      "Completed Figure 90\n",
      "Completed Figure 95\n"
     ]
    }
   ],
   "source": [
    "from siglib.spectrum import spectrum_map\n",
    "from siglib.figures import py_labels\n",
    "import matplotlib as mpl\n",
    "import matplotlib.pyplot as plt\n",
    "\n",
    "cosmic_search_url = \"http://cancer.sanger.ac.uk/cosmic/search?q={}\"\n",
    "data = []\n",
    "\n",
    "# Sort based on similarity attribute\n",
    "sorted_results = sorted(list(merged_samples.values()),\n",
    "                        reverse=True,\n",
    "                        key=lambda x: x.similarity)\n",
    "\n",
    "# Count to 100 and append to data\n",
    "for i, x in enumerate(sorted_results):\n",
    "    if i >= 100: break;\n",
    "    if i % 5 == 0: print('Completed Figure {}'.format(i))\n",
    "\n",
    "    data.append([i + 1,\n",
    "                 '<a href={} target=\"_blank\">{}</a>'.format(cosmic_search_url.format(x.name), x.name),\n",
    "                 '{:0.2f}'.format(float(x.similarity)), \n",
    "                 x.total_mutations, \n",
    "                 x.histology['primary'].capitalize(),\n",
    "                 x.site['primary'].capitalize()])\n",
    "    if i < 100:\n",
    "        continue\n",
    "    spectrum_map(x=2, y=1,\n",
    "                 x_inches=20,\n",
    "                 dpi=420,\n",
    "                 heights=[x.spectrum.values(), C10],\n",
    "                 xlabels=[[y.parts[1] for y in x.spectrum.keys()],\n",
    "                          [y.parts[1] for y in x.spectrum.keys()]],\n",
    "                 labels=py_labels,\n",
    "                 titles=[x.name + '\\n', 'C10\\n'])\n",
    "    plt.savefig('/home/clint/siglib/figures/{}.png?raw=true'.format(x.name), bbox_inches='tight', dpi=150)\n",
    "    mpl.pyplot.close(\"all\")\n",
    "    "
   ]
  },
  {
   "cell_type": "code",
   "execution_count": 10,
   "metadata": {
    "collapsed": false
   },
   "outputs": [
    {
     "data": {
      "text/html": [
       "<p><h1>6875 Tumour Samples by Primary Site with > 100 Mutations</h1>"
      ],
      "text/plain": [
       "<IPython.core.display.HTML object>"
      ]
     },
     "metadata": {},
     "output_type": "display_data"
    },
    {
     "data": {
      "text/html": [
       "<table><tr></tr><td><b>Primary Site</b></td><td><b>Frequency</b></td><tr><td>large_intestine</td><td>1014</td></tr><tr><td>liver</td><td>869</td></tr><tr><td>lung</td><td>859</td></tr><tr><td>skin</td><td>552</td></tr><tr><td>oesophagus</td><td>494</td></tr><tr><td>breast</td><td>402</td></tr><tr><td>stomach</td><td>367</td></tr><tr><td>kidney</td><td>363</td></tr><tr><td>urinary_tract</td><td>258</td></tr><tr><td>pancreas</td><td>238</td></tr><tr><td>central_nervous_system</td><td>205</td></tr><tr><td>endometrium</td><td>192</td></tr><tr><td>ovary</td><td>191</td></tr><tr><td>upper_aerodigestive_tract</td><td>183</td></tr><tr><td>haematopoietic_and_lymphoid_tissue</td><td>169</td></tr><tr><td>cervix</td><td>124</td></tr><tr><td>prostate</td><td>98</td></tr><tr><td>bone</td><td>80</td></tr><tr><td>biliary_tract</td><td>80</td></tr><tr><td>soft_tissue</td><td>61</td></tr><tr><td>thyroid</td><td>28</td></tr><tr><td>peritoneum</td><td>4</td></tr><tr><td>autonomic_ganglia</td><td>4</td></tr><tr><td>adrenal_gland</td><td>4</td></tr><tr><td>small_intestine</td><td>3</td></tr><tr><td>thymus</td><td>2</td></tr><tr><td>pleura</td><td>2</td></tr><tr><td>parathyroid</td><td>1</td></tr><tr><td>fallopian_tube</td><td>1</td></tr><tr><td>vulva</td><td>1</td></tr></table>"
      ],
      "text/plain": [
       "<IPython.core.display.HTML object>"
      ]
     },
     "metadata": {},
     "output_type": "display_data"
    }
   ],
   "source": [
    "from collections import Counter\n",
    "from IPython.display import HTML, display\n",
    "\n",
    "site_counter = Counter()\n",
    "\n",
    "# Count all site occurences in merged_samples\n",
    "for x in merged_samples.values():\n",
    "    if x.site['primary'] in ['', 'NS']:\n",
    "        continue\n",
    "    site_counter.update([x.site['primary']])\n",
    "\n",
    "display(HTML('<p><h1>{} Tumour Samples by Primary Site with > {} Mutations</h1>'\n",
    "             ''.format(len(merged_samples), cutoff)))\n",
    "display(HTML(\n",
    "'<table><tr>'\n",
    "'</tr><td><b>Primary Site</b></td><td><b>Frequency</b></td>'\n",
    "    '<tr>{}</tr></table>'.format('</tr><tr>'.join(\n",
    "        '<td>{}</td>'.format('</td><td>'.join(str(_) for _ in row)) for row in site_counter.most_common())\n",
    "    )\n",
    "))"
   ]
  },
  {
   "cell_type": "code",
   "execution_count": 11,
   "metadata": {
    "collapsed": false,
    "scrolled": false
   },
   "outputs": [
    {
     "data": {
      "text/html": [
       "<p><h1>Top 100 Tumour Samples Most Similar to C10</h1></p>"
      ],
      "text/plain": [
       "<IPython.core.display.HTML object>"
      ]
     },
     "metadata": {},
     "output_type": "display_data"
    },
    {
     "data": {
      "text/html": [
       "<table><tr><td><b>Rank</td></b><td><b>Name</td></b><td><b>Similarity (cosine)</td></b><td><b>Number of Mutations</td></b><td><b>Site Primary</td></b><td><b>Histology Primary</b></td></tr><tr><td>1</td><td><a href=http://cancer.sanger.ac.uk/cosmic/search?q=CHC1154T target=\"_blank\">CHC1154T</a></td><td>0.89</td><td>281</td><td>Carcinoma</td><td>Liver</td></tr><tr><td colspan=\"6\"><img src=\"https://github.com/essigmannlab/aflatoxin_biomarker/blob/master/supplemental/cosmic_comparison_figures/CHC1154T.png?raw=true\" style=\"text-align: center;\"></td></tr><tr><td><b>Rank</td></b><td><b>Name</td></b><td><b>Similarity (cosine)</td></b><td><b>Number of Mutations</td></b><td><b>Site Primary</td></b><td><b>Histology Primary</b></td></tr><tr><td>2</td><td><a href=http://cancer.sanger.ac.uk/cosmic/search?q=CHC1754T target=\"_blank\">CHC1754T</a></td><td>0.86</td><td>355</td><td>Carcinoma</td><td>Liver</td></tr><tr><td colspan=\"6\"><img src=\"https://github.com/essigmannlab/aflatoxin_biomarker/blob/master/supplemental/cosmic_comparison_figures/CHC1754T.png?raw=true\" style=\"text-align: center;\"></td></tr><tr><td><b>Rank</td></b><td><b>Name</td></b><td><b>Similarity (cosine)</td></b><td><b>Number of Mutations</td></b><td><b>Site Primary</td></b><td><b>Histology Primary</b></td></tr><tr><td>3</td><td><a href=http://cancer.sanger.ac.uk/cosmic/search?q=CHC1704T target=\"_blank\">CHC1704T</a></td><td>0.84</td><td>589</td><td>Carcinoma</td><td>Liver</td></tr><tr><td colspan=\"6\"><img src=\"https://github.com/essigmannlab/aflatoxin_biomarker/blob/master/supplemental/cosmic_comparison_figures/CHC1704T.png?raw=true\" style=\"text-align: center;\"></td></tr><tr><td><b>Rank</td></b><td><b>Name</td></b><td><b>Similarity (cosine)</td></b><td><b>Number of Mutations</td></b><td><b>Site Primary</td></b><td><b>Histology Primary</b></td></tr><tr><td>4</td><td><a href=http://cancer.sanger.ac.uk/cosmic/search?q=3206A7_009_T target=\"_blank\">3206A7_009_T</a></td><td>0.78</td><td>477</td><td>Carcinoma</td><td>Liver</td></tr><tr><td colspan=\"6\"><img src=\"https://github.com/essigmannlab/aflatoxin_biomarker/blob/master/supplemental/cosmic_comparison_figures/3206A7_009_T.png?raw=true\" style=\"text-align: center;\"></td></tr><tr><td><b>Rank</td></b><td><b>Name</td></b><td><b>Similarity (cosine)</td></b><td><b>Number of Mutations</td></b><td><b>Site Primary</td></b><td><b>Histology Primary</b></td></tr><tr><td>5</td><td><a href=http://cancer.sanger.ac.uk/cosmic/search?q=TCGA-78-7633-01 target=\"_blank\">TCGA-78-7633-01</a></td><td>0.78</td><td>184</td><td>Carcinoma</td><td>Lung</td></tr><tr><td colspan=\"6\"><img src=\"https://github.com/essigmannlab/aflatoxin_biomarker/blob/master/supplemental/cosmic_comparison_figures/TCGA-78-7633-01.png?raw=true\" style=\"text-align: center;\"></td></tr><tr><td><b>Rank</td></b><td><b>Name</td></b><td><b>Similarity (cosine)</td></b><td><b>Number of Mutations</td></b><td><b>Site Primary</td></b><td><b>Histology Primary</b></td></tr><tr><td>6</td><td><a href=http://cancer.sanger.ac.uk/cosmic/search?q=OSCC-GB_00620111 target=\"_blank\">OSCC-GB_00620111</a></td><td>0.78</td><td>331</td><td>Carcinoma</td><td>Upper_aerodigestive_tract</td></tr><tr><td colspan=\"6\"><img src=\"https://github.com/essigmannlab/aflatoxin_biomarker/blob/master/supplemental/cosmic_comparison_figures/OSCC-GB_00620111.png?raw=true\" style=\"text-align: center;\"></td></tr><tr><td><b>Rank</td></b><td><b>Name</td></b><td><b>Similarity (cosine)</td></b><td><b>Number of Mutations</td></b><td><b>Site Primary</td></b><td><b>Histology Primary</b></td></tr><tr><td>7</td><td><a href=http://cancer.sanger.ac.uk/cosmic/search?q=067T target=\"_blank\">067T</a></td><td>0.78</td><td>117</td><td>Carcinoma</td><td>Liver</td></tr><tr><td colspan=\"6\"><img src=\"https://github.com/essigmannlab/aflatoxin_biomarker/blob/master/supplemental/cosmic_comparison_figures/067T.png?raw=true\" style=\"text-align: center;\"></td></tr><tr><td><b>Rank</td></b><td><b>Name</td></b><td><b>Similarity (cosine)</td></b><td><b>Number of Mutations</td></b><td><b>Site Primary</td></b><td><b>Histology Primary</b></td></tr><tr><td>8</td><td><a href=http://cancer.sanger.ac.uk/cosmic/search?q=OSCC-GB_00600111 target=\"_blank\">OSCC-GB_00600111</a></td><td>0.76</td><td>317</td><td>Carcinoma</td><td>Upper_aerodigestive_tract</td></tr><tr><td colspan=\"6\"><img src=\"https://github.com/essigmannlab/aflatoxin_biomarker/blob/master/supplemental/cosmic_comparison_figures/OSCC-GB_00600111.png?raw=true\" style=\"text-align: center;\"></td></tr><tr><td><b>Rank</td></b><td><b>Name</td></b><td><b>Similarity (cosine)</td></b><td><b>Number of Mutations</td></b><td><b>Site Primary</td></b><td><b>Histology Primary</b></td></tr><tr><td>9</td><td><a href=http://cancer.sanger.ac.uk/cosmic/search?q=OSCC-GB_00660111 target=\"_blank\">OSCC-GB_00660111</a></td><td>0.76</td><td>207</td><td>Carcinoma</td><td>Upper_aerodigestive_tract</td></tr><tr><td colspan=\"6\"><img src=\"https://github.com/essigmannlab/aflatoxin_biomarker/blob/master/supplemental/cosmic_comparison_figures/OSCC-GB_00660111.png?raw=true\" style=\"text-align: center;\"></td></tr><tr><td><b>Rank</td></b><td><b>Name</td></b><td><b>Similarity (cosine)</td></b><td><b>Number of Mutations</td></b><td><b>Site Primary</td></b><td><b>Histology Primary</b></td></tr><tr><td>10</td><td><a href=http://cancer.sanger.ac.uk/cosmic/search?q=CHC1211T target=\"_blank\">CHC1211T</a></td><td>0.75</td><td>237</td><td>Carcinoma</td><td>Liver</td></tr><tr><td colspan=\"6\"><img src=\"https://github.com/essigmannlab/aflatoxin_biomarker/blob/master/supplemental/cosmic_comparison_figures/CHC1211T.png?raw=true\" style=\"text-align: center;\"></td></tr><tr><td><b>Rank</td></b><td><b>Name</td></b><td><b>Similarity (cosine)</td></b><td><b>Number of Mutations</td></b><td><b>Site Primary</td></b><td><b>Histology Primary</b></td></tr><tr><td>11</td><td><a href=http://cancer.sanger.ac.uk/cosmic/search?q=TCGA-86-7713-01 target=\"_blank\">TCGA-86-7713-01</a></td><td>0.75</td><td>247</td><td>Carcinoma</td><td>Lung</td></tr><tr><td colspan=\"6\"><img src=\"https://github.com/essigmannlab/aflatoxin_biomarker/blob/master/supplemental/cosmic_comparison_figures/TCGA-86-7713-01.png?raw=true\" style=\"text-align: center;\"></td></tr><tr><td><b>Rank</td></b><td><b>Name</td></b><td><b>Similarity (cosine)</td></b><td><b>Number of Mutations</td></b><td><b>Site Primary</td></b><td><b>Histology Primary</b></td></tr><tr><td>12</td><td><a href=http://cancer.sanger.ac.uk/cosmic/search?q=31119 target=\"_blank\">31119</a></td><td>0.75</td><td>95</td><td>Carcinoma</td><td>Liver</td></tr><tr><td colspan=\"6\"><img src=\"https://github.com/essigmannlab/aflatoxin_biomarker/blob/master/supplemental/cosmic_comparison_figures/31119.png?raw=true\" style=\"text-align: center;\"></td></tr><tr><td><b>Rank</td></b><td><b>Name</td></b><td><b>Similarity (cosine)</td></b><td><b>Number of Mutations</td></b><td><b>Site Primary</td></b><td><b>Histology Primary</b></td></tr><tr><td>13</td><td><a href=http://cancer.sanger.ac.uk/cosmic/search?q=TCGA-DD-A1EL-01 target=\"_blank\">TCGA-DD-A1EL-01</a></td><td>0.71</td><td>228</td><td>Carcinoma</td><td>Liver</td></tr><tr><td colspan=\"6\"><img src=\"https://github.com/essigmannlab/aflatoxin_biomarker/blob/master/supplemental/cosmic_comparison_figures/TCGA-DD-A1EL-01.png?raw=true\" style=\"text-align: center;\"></td></tr><tr><td><b>Rank</td></b><td><b>Name</td></b><td><b>Similarity (cosine)</td></b><td><b>Number of Mutations</td></b><td><b>Site Primary</td></b><td><b>Histology Primary</b></td></tr><tr><td>14</td><td><a href=http://cancer.sanger.ac.uk/cosmic/search?q=H166 target=\"_blank\">H166</a></td><td>0.70</td><td>86</td><td>Carcinoma</td><td>Liver</td></tr><tr><td colspan=\"6\"><img src=\"https://github.com/essigmannlab/aflatoxin_biomarker/blob/master/supplemental/cosmic_comparison_figures/H166.png?raw=true\" style=\"text-align: center;\"></td></tr><tr><td><b>Rank</td></b><td><b>Name</td></b><td><b>Similarity (cosine)</td></b><td><b>Number of Mutations</td></b><td><b>Site Primary</td></b><td><b>Histology Primary</b></td></tr><tr><td>15</td><td><a href=http://cancer.sanger.ac.uk/cosmic/search?q=TCGA-91-7771-01 target=\"_blank\">TCGA-91-7771-01</a></td><td>0.70</td><td>294</td><td>Carcinoma</td><td>Lung</td></tr><tr><td colspan=\"6\"><img src=\"https://github.com/essigmannlab/aflatoxin_biomarker/blob/master/supplemental/cosmic_comparison_figures/TCGA-91-7771-01.png?raw=true\" style=\"text-align: center;\"></td></tr><tr><td><b>Rank</td></b><td><b>Name</td></b><td><b>Similarity (cosine)</td></b><td><b>Number of Mutations</td></b><td><b>Site Primary</td></b><td><b>Histology Primary</b></td></tr><tr><td>16</td><td><a href=http://cancer.sanger.ac.uk/cosmic/search?q=TCGA-55-6979-01 target=\"_blank\">TCGA-55-6979-01</a></td><td>0.70</td><td>227</td><td>Carcinoma</td><td>Lung</td></tr><tr><td colspan=\"6\"><img src=\"https://github.com/essigmannlab/aflatoxin_biomarker/blob/master/supplemental/cosmic_comparison_figures/TCGA-55-6979-01.png?raw=true\" style=\"text-align: center;\"></td></tr><tr><td><b>Rank</td></b><td><b>Name</td></b><td><b>Similarity (cosine)</td></b><td><b>Number of Mutations</td></b><td><b>Site Primary</td></b><td><b>Histology Primary</b></td></tr><tr><td>17</td><td><a href=http://cancer.sanger.ac.uk/cosmic/search?q=OSCC-GB_00940111 target=\"_blank\">OSCC-GB_00940111</a></td><td>0.70</td><td>234</td><td>Carcinoma</td><td>Upper_aerodigestive_tract</td></tr><tr><td colspan=\"6\"><img src=\"https://github.com/essigmannlab/aflatoxin_biomarker/blob/master/supplemental/cosmic_comparison_figures/OSCC-GB_00940111.png?raw=true\" style=\"text-align: center;\"></td></tr><tr><td><b>Rank</td></b><td><b>Name</td></b><td><b>Similarity (cosine)</td></b><td><b>Number of Mutations</td></b><td><b>Site Primary</td></b><td><b>Histology Primary</b></td></tr><tr><td>18</td><td><a href=http://cancer.sanger.ac.uk/cosmic/search?q=1953_T target=\"_blank\">1953_T</a></td><td>0.69</td><td>265</td><td>Carcinoma</td><td>Lung</td></tr><tr><td colspan=\"6\"><img src=\"https://github.com/essigmannlab/aflatoxin_biomarker/blob/master/supplemental/cosmic_comparison_figures/1953_T.png?raw=true\" style=\"text-align: center;\"></td></tr><tr><td><b>Rank</td></b><td><b>Name</td></b><td><b>Similarity (cosine)</td></b><td><b>Number of Mutations</td></b><td><b>Site Primary</td></b><td><b>Histology Primary</b></td></tr><tr><td>19</td><td><a href=http://cancer.sanger.ac.uk/cosmic/search?q=OSCC-GB_00640111 target=\"_blank\">OSCC-GB_00640111</a></td><td>0.69</td><td>196</td><td>Carcinoma</td><td>Upper_aerodigestive_tract</td></tr><tr><td colspan=\"6\"><img src=\"https://github.com/essigmannlab/aflatoxin_biomarker/blob/master/supplemental/cosmic_comparison_figures/OSCC-GB_00640111.png?raw=true\" style=\"text-align: center;\"></td></tr><tr><td><b>Rank</td></b><td><b>Name</td></b><td><b>Similarity (cosine)</td></b><td><b>Number of Mutations</td></b><td><b>Site Primary</td></b><td><b>Histology Primary</b></td></tr><tr><td>20</td><td><a href=http://cancer.sanger.ac.uk/cosmic/search?q=OSCC-GB_00690111 target=\"_blank\">OSCC-GB_00690111</a></td><td>0.69</td><td>240</td><td>Carcinoma</td><td>Upper_aerodigestive_tract</td></tr><tr><td colspan=\"6\"><img src=\"https://github.com/essigmannlab/aflatoxin_biomarker/blob/master/supplemental/cosmic_comparison_figures/OSCC-GB_00690111.png?raw=true\" style=\"text-align: center;\"></td></tr><tr><td><b>Rank</td></b><td><b>Name</td></b><td><b>Similarity (cosine)</td></b><td><b>Number of Mutations</td></b><td><b>Site Primary</td></b><td><b>Histology Primary</b></td></tr><tr><td>21</td><td><a href=http://cancer.sanger.ac.uk/cosmic/search?q=TCGA-CC-A7II-01 target=\"_blank\">TCGA-CC-A7II-01</a></td><td>0.69</td><td>249</td><td>Carcinoma</td><td>Liver</td></tr><tr><td colspan=\"6\"><img src=\"https://github.com/essigmannlab/aflatoxin_biomarker/blob/master/supplemental/cosmic_comparison_figures/TCGA-CC-A7II-01.png?raw=true\" style=\"text-align: center;\"></td></tr><tr><td><b>Rank</td></b><td><b>Name</td></b><td><b>Similarity (cosine)</td></b><td><b>Number of Mutations</td></b><td><b>Site Primary</td></b><td><b>Histology Primary</b></td></tr><tr><td>22</td><td><a href=http://cancer.sanger.ac.uk/cosmic/search?q=TCGA-CC-A7IG-01 target=\"_blank\">TCGA-CC-A7IG-01</a></td><td>0.69</td><td>226</td><td>Carcinoma</td><td>Liver</td></tr><tr><td colspan=\"6\"><img src=\"https://github.com/essigmannlab/aflatoxin_biomarker/blob/master/supplemental/cosmic_comparison_figures/TCGA-CC-A7IG-01.png?raw=true\" style=\"text-align: center;\"></td></tr><tr><td><b>Rank</td></b><td><b>Name</td></b><td><b>Similarity (cosine)</td></b><td><b>Number of Mutations</td></b><td><b>Site Primary</td></b><td><b>Histology Primary</b></td></tr><tr><td>23</td><td><a href=http://cancer.sanger.ac.uk/cosmic/search?q=TCGA-05-5425-01 target=\"_blank\">TCGA-05-5425-01</a></td><td>0.69</td><td>903</td><td>Carcinoma</td><td>Lung</td></tr><tr><td colspan=\"6\"><img src=\"https://github.com/essigmannlab/aflatoxin_biomarker/blob/master/supplemental/cosmic_comparison_figures/TCGA-05-5425-01.png?raw=true\" style=\"text-align: center;\"></td></tr><tr><td><b>Rank</td></b><td><b>Name</td></b><td><b>Similarity (cosine)</td></b><td><b>Number of Mutations</td></b><td><b>Site Primary</td></b><td><b>Histology Primary</b></td></tr><tr><td>24</td><td><a href=http://cancer.sanger.ac.uk/cosmic/search?q=TCGA-44-6778-01 target=\"_blank\">TCGA-44-6778-01</a></td><td>0.68</td><td>560</td><td>Carcinoma</td><td>Lung</td></tr><tr><td colspan=\"6\"><img src=\"https://github.com/essigmannlab/aflatoxin_biomarker/blob/master/supplemental/cosmic_comparison_figures/TCGA-44-6778-01.png?raw=true\" style=\"text-align: center;\"></td></tr><tr><td><b>Rank</td></b><td><b>Name</td></b><td><b>Similarity (cosine)</td></b><td><b>Number of Mutations</td></b><td><b>Site Primary</td></b><td><b>Histology Primary</b></td></tr><tr><td>25</td><td><a href=http://cancer.sanger.ac.uk/cosmic/search?q=TCGA-91-A4BC-01 target=\"_blank\">TCGA-91-A4BC-01</a></td><td>0.68</td><td>673</td><td>Carcinoma</td><td>Lung</td></tr><tr><td colspan=\"6\"><img src=\"https://github.com/essigmannlab/aflatoxin_biomarker/blob/master/supplemental/cosmic_comparison_figures/TCGA-91-A4BC-01.png?raw=true\" style=\"text-align: center;\"></td></tr><tr><td><b>Rank</td></b><td><b>Name</td></b><td><b>Similarity (cosine)</td></b><td><b>Number of Mutations</td></b><td><b>Site Primary</td></b><td><b>Histology Primary</b></td></tr><tr><td>26</td><td><a href=http://cancer.sanger.ac.uk/cosmic/search?q=CHC1717T target=\"_blank\">CHC1717T</a></td><td>0.68</td><td>225</td><td>Carcinoma</td><td>Liver</td></tr><tr><td colspan=\"6\"><img src=\"https://github.com/essigmannlab/aflatoxin_biomarker/blob/master/supplemental/cosmic_comparison_figures/CHC1717T.png?raw=true\" style=\"text-align: center;\"></td></tr><tr><td><b>Rank</td></b><td><b>Name</td></b><td><b>Similarity (cosine)</td></b><td><b>Number of Mutations</td></b><td><b>Site Primary</td></b><td><b>Histology Primary</b></td></tr><tr><td>27</td><td><a href=http://cancer.sanger.ac.uk/cosmic/search?q=LC_S19 target=\"_blank\">LC_S19</a></td><td>0.68</td><td>190</td><td>Carcinoma</td><td>Lung</td></tr><tr><td colspan=\"6\"><img src=\"https://github.com/essigmannlab/aflatoxin_biomarker/blob/master/supplemental/cosmic_comparison_figures/LC_S19.png?raw=true\" style=\"text-align: center;\"></td></tr><tr><td><b>Rank</td></b><td><b>Name</td></b><td><b>Similarity (cosine)</td></b><td><b>Number of Mutations</td></b><td><b>Site Primary</td></b><td><b>Histology Primary</b></td></tr><tr><td>28</td><td><a href=http://cancer.sanger.ac.uk/cosmic/search?q=TCGA-DD-A114-01 target=\"_blank\">TCGA-DD-A114-01</a></td><td>0.68</td><td>175</td><td>Carcinoma</td><td>Liver</td></tr><tr><td colspan=\"6\"><img src=\"https://github.com/essigmannlab/aflatoxin_biomarker/blob/master/supplemental/cosmic_comparison_figures/TCGA-DD-A114-01.png?raw=true\" style=\"text-align: center;\"></td></tr><tr><td><b>Rank</td></b><td><b>Name</td></b><td><b>Similarity (cosine)</td></b><td><b>Number of Mutations</td></b><td><b>Site Primary</td></b><td><b>Histology Primary</b></td></tr><tr><td>29</td><td><a href=http://cancer.sanger.ac.uk/cosmic/search?q=TCGA-64-1679-01 target=\"_blank\">TCGA-64-1679-01</a></td><td>0.67</td><td>770</td><td>Carcinoma</td><td>Lung</td></tr><tr><td colspan=\"6\"><img src=\"https://github.com/essigmannlab/aflatoxin_biomarker/blob/master/supplemental/cosmic_comparison_figures/TCGA-64-1679-01.png?raw=true\" style=\"text-align: center;\"></td></tr><tr><td><b>Rank</td></b><td><b>Name</td></b><td><b>Similarity (cosine)</td></b><td><b>Number of Mutations</td></b><td><b>Site Primary</td></b><td><b>Histology Primary</b></td></tr><tr><td>30</td><td><a href=http://cancer.sanger.ac.uk/cosmic/search?q=TCGA-55-7994-01 target=\"_blank\">TCGA-55-7994-01</a></td><td>0.67</td><td>2391</td><td>Carcinoma</td><td>Lung</td></tr><tr><td colspan=\"6\"><img src=\"https://github.com/essigmannlab/aflatoxin_biomarker/blob/master/supplemental/cosmic_comparison_figures/TCGA-55-7994-01.png?raw=true\" style=\"text-align: center;\"></td></tr><tr><td><b>Rank</td></b><td><b>Name</td></b><td><b>Similarity (cosine)</td></b><td><b>Number of Mutations</td></b><td><b>Site Primary</td></b><td><b>Histology Primary</b></td></tr><tr><td>31</td><td><a href=http://cancer.sanger.ac.uk/cosmic/search?q=TCGA-78-7220-01 target=\"_blank\">TCGA-78-7220-01</a></td><td>0.67</td><td>1279</td><td>Carcinoma</td><td>Lung</td></tr><tr><td colspan=\"6\"><img src=\"https://github.com/essigmannlab/aflatoxin_biomarker/blob/master/supplemental/cosmic_comparison_figures/TCGA-78-7220-01.png?raw=true\" style=\"text-align: center;\"></td></tr><tr><td><b>Rank</td></b><td><b>Name</td></b><td><b>Similarity (cosine)</td></b><td><b>Number of Mutations</td></b><td><b>Site Primary</td></b><td><b>Histology Primary</b></td></tr><tr><td>32</td><td><a href=http://cancer.sanger.ac.uk/cosmic/search?q=OSCC-GB_01010111 target=\"_blank\">OSCC-GB_01010111</a></td><td>0.67</td><td>179</td><td>Carcinoma</td><td>Upper_aerodigestive_tract</td></tr><tr><td colspan=\"6\"><img src=\"https://github.com/essigmannlab/aflatoxin_biomarker/blob/master/supplemental/cosmic_comparison_figures/OSCC-GB_01010111.png?raw=true\" style=\"text-align: center;\"></td></tr><tr><td><b>Rank</td></b><td><b>Name</td></b><td><b>Similarity (cosine)</td></b><td><b>Number of Mutations</td></b><td><b>Site Primary</td></b><td><b>Histology Primary</b></td></tr><tr><td>33</td><td><a href=http://cancer.sanger.ac.uk/cosmic/search?q=U251 target=\"_blank\">U251</a></td><td>0.67</td><td>186</td><td>Glioma</td><td>Central_nervous_system</td></tr><tr><td colspan=\"6\"><img src=\"https://github.com/essigmannlab/aflatoxin_biomarker/blob/master/supplemental/cosmic_comparison_figures/U251.png?raw=true\" style=\"text-align: center;\"></td></tr><tr><td><b>Rank</td></b><td><b>Name</td></b><td><b>Similarity (cosine)</td></b><td><b>Number of Mutations</td></b><td><b>Site Primary</td></b><td><b>Histology Primary</b></td></tr><tr><td>34</td><td><a href=http://cancer.sanger.ac.uk/cosmic/search?q=TCGA-CC-A5UE-01 target=\"_blank\">TCGA-CC-A5UE-01</a></td><td>0.67</td><td>222</td><td>Carcinoma</td><td>Liver</td></tr><tr><td colspan=\"6\"><img src=\"https://github.com/essigmannlab/aflatoxin_biomarker/blob/master/supplemental/cosmic_comparison_figures/TCGA-CC-A5UE-01.png?raw=true\" style=\"text-align: center;\"></td></tr><tr><td><b>Rank</td></b><td><b>Name</td></b><td><b>Similarity (cosine)</td></b><td><b>Number of Mutations</td></b><td><b>Site Primary</td></b><td><b>Histology Primary</b></td></tr><tr><td>35</td><td><a href=http://cancer.sanger.ac.uk/cosmic/search?q=TCGA-44-7667-01 target=\"_blank\">TCGA-44-7667-01</a></td><td>0.67</td><td>672</td><td>Carcinoma</td><td>Lung</td></tr><tr><td colspan=\"6\"><img src=\"https://github.com/essigmannlab/aflatoxin_biomarker/blob/master/supplemental/cosmic_comparison_figures/TCGA-44-7667-01.png?raw=true\" style=\"text-align: center;\"></td></tr><tr><td><b>Rank</td></b><td><b>Name</td></b><td><b>Similarity (cosine)</td></b><td><b>Number of Mutations</td></b><td><b>Site Primary</td></b><td><b>Histology Primary</b></td></tr><tr><td>36</td><td><a href=http://cancer.sanger.ac.uk/cosmic/search?q=OSCC-GB_00630111 target=\"_blank\">OSCC-GB_00630111</a></td><td>0.66</td><td>257</td><td>Carcinoma</td><td>Upper_aerodigestive_tract</td></tr><tr><td colspan=\"6\"><img src=\"https://github.com/essigmannlab/aflatoxin_biomarker/blob/master/supplemental/cosmic_comparison_figures/OSCC-GB_00630111.png?raw=true\" style=\"text-align: center;\"></td></tr><tr><td><b>Rank</td></b><td><b>Name</td></b><td><b>Similarity (cosine)</td></b><td><b>Number of Mutations</td></b><td><b>Site Primary</td></b><td><b>Histology Primary</b></td></tr><tr><td>37</td><td><a href=http://cancer.sanger.ac.uk/cosmic/search?q=CHC1594T target=\"_blank\">CHC1594T</a></td><td>0.66</td><td>183</td><td>Carcinoma</td><td>Liver</td></tr><tr><td colspan=\"6\"><img src=\"https://github.com/essigmannlab/aflatoxin_biomarker/blob/master/supplemental/cosmic_comparison_figures/CHC1594T.png?raw=true\" style=\"text-align: center;\"></td></tr><tr><td><b>Rank</td></b><td><b>Name</td></b><td><b>Similarity (cosine)</td></b><td><b>Number of Mutations</td></b><td><b>Site Primary</td></b><td><b>Histology Primary</b></td></tr><tr><td>38</td><td><a href=http://cancer.sanger.ac.uk/cosmic/search?q=TCGA-50-5941-01 target=\"_blank\">TCGA-50-5941-01</a></td><td>0.66</td><td>588</td><td>Carcinoma</td><td>Lung</td></tr><tr><td colspan=\"6\"><img src=\"https://github.com/essigmannlab/aflatoxin_biomarker/blob/master/supplemental/cosmic_comparison_figures/TCGA-50-5941-01.png?raw=true\" style=\"text-align: center;\"></td></tr><tr><td><b>Rank</td></b><td><b>Name</td></b><td><b>Similarity (cosine)</td></b><td><b>Number of Mutations</td></b><td><b>Site Primary</td></b><td><b>Histology Primary</b></td></tr><tr><td>39</td><td><a href=http://cancer.sanger.ac.uk/cosmic/search?q=TCGA-62-A46P-01 target=\"_blank\">TCGA-62-A46P-01</a></td><td>0.66</td><td>426</td><td>Carcinoma</td><td>Lung</td></tr><tr><td colspan=\"6\"><img src=\"https://github.com/essigmannlab/aflatoxin_biomarker/blob/master/supplemental/cosmic_comparison_figures/TCGA-62-A46P-01.png?raw=true\" style=\"text-align: center;\"></td></tr><tr><td><b>Rank</td></b><td><b>Name</td></b><td><b>Similarity (cosine)</td></b><td><b>Number of Mutations</td></b><td><b>Site Primary</td></b><td><b>Histology Primary</b></td></tr><tr><td>40</td><td><a href=http://cancer.sanger.ac.uk/cosmic/search?q=TCGA-67-3773-01 target=\"_blank\">TCGA-67-3773-01</a></td><td>0.66</td><td>164</td><td>Carcinoma</td><td>Lung</td></tr><tr><td colspan=\"6\"><img src=\"https://github.com/essigmannlab/aflatoxin_biomarker/blob/master/supplemental/cosmic_comparison_figures/TCGA-67-3773-01.png?raw=true\" style=\"text-align: center;\"></td></tr><tr><td><b>Rank</td></b><td><b>Name</td></b><td><b>Similarity (cosine)</td></b><td><b>Number of Mutations</td></b><td><b>Site Primary</td></b><td><b>Histology Primary</b></td></tr><tr><td>41</td><td><a href=http://cancer.sanger.ac.uk/cosmic/search?q=OSCC-GB_00560111 target=\"_blank\">OSCC-GB_00560111</a></td><td>0.66</td><td>275</td><td>Carcinoma</td><td>Upper_aerodigestive_tract</td></tr><tr><td colspan=\"6\"><img src=\"https://github.com/essigmannlab/aflatoxin_biomarker/blob/master/supplemental/cosmic_comparison_figures/OSCC-GB_00560111.png?raw=true\" style=\"text-align: center;\"></td></tr><tr><td><b>Rank</td></b><td><b>Name</td></b><td><b>Similarity (cosine)</td></b><td><b>Number of Mutations</td></b><td><b>Site Primary</td></b><td><b>Histology Primary</b></td></tr><tr><td>42</td><td><a href=http://cancer.sanger.ac.uk/cosmic/search?q=TCGA-21-1070-01 target=\"_blank\">TCGA-21-1070-01</a></td><td>0.66</td><td>314</td><td>Carcinoma</td><td>Lung</td></tr><tr><td colspan=\"6\"><img src=\"https://github.com/essigmannlab/aflatoxin_biomarker/blob/master/supplemental/cosmic_comparison_figures/TCGA-21-1070-01.png?raw=true\" style=\"text-align: center;\"></td></tr><tr><td><b>Rank</td></b><td><b>Name</td></b><td><b>Similarity (cosine)</td></b><td><b>Number of Mutations</td></b><td><b>Site Primary</td></b><td><b>Histology Primary</b></td></tr><tr><td>43</td><td><a href=http://cancer.sanger.ac.uk/cosmic/search?q=TCGA-33-4566-01 target=\"_blank\">TCGA-33-4566-01</a></td><td>0.66</td><td>773</td><td>Carcinoma</td><td>Lung</td></tr><tr><td colspan=\"6\"><img src=\"https://github.com/essigmannlab/aflatoxin_biomarker/blob/master/supplemental/cosmic_comparison_figures/TCGA-33-4566-01.png?raw=true\" style=\"text-align: center;\"></td></tr><tr><td><b>Rank</td></b><td><b>Name</td></b><td><b>Similarity (cosine)</td></b><td><b>Number of Mutations</td></b><td><b>Site Primary</td></b><td><b>Histology Primary</b></td></tr><tr><td>44</td><td><a href=http://cancer.sanger.ac.uk/cosmic/search?q=HCC7T target=\"_blank\">HCC7T</a></td><td>0.66</td><td>8</td><td>Carcinoma</td><td>Liver</td></tr><tr><td colspan=\"6\"><img src=\"https://github.com/essigmannlab/aflatoxin_biomarker/blob/master/supplemental/cosmic_comparison_figures/HCC7T.png?raw=true\" style=\"text-align: center;\"></td></tr><tr><td><b>Rank</td></b><td><b>Name</td></b><td><b>Similarity (cosine)</td></b><td><b>Number of Mutations</td></b><td><b>Site Primary</td></b><td><b>Histology Primary</b></td></tr><tr><td>45</td><td><a href=http://cancer.sanger.ac.uk/cosmic/search?q=OSCC-GB_00670111 target=\"_blank\">OSCC-GB_00670111</a></td><td>0.65</td><td>142</td><td>Carcinoma</td><td>Upper_aerodigestive_tract</td></tr><tr><td colspan=\"6\"><img src=\"https://github.com/essigmannlab/aflatoxin_biomarker/blob/master/supplemental/cosmic_comparison_figures/OSCC-GB_00670111.png?raw=true\" style=\"text-align: center;\"></td></tr><tr><td><b>Rank</td></b><td><b>Name</td></b><td><b>Similarity (cosine)</td></b><td><b>Number of Mutations</td></b><td><b>Site Primary</td></b><td><b>Histology Primary</b></td></tr><tr><td>46</td><td><a href=http://cancer.sanger.ac.uk/cosmic/search?q=TCGA-50-6594-01 target=\"_blank\">TCGA-50-6594-01</a></td><td>0.65</td><td>826</td><td>Carcinoma</td><td>Lung</td></tr><tr><td colspan=\"6\"><img src=\"https://github.com/essigmannlab/aflatoxin_biomarker/blob/master/supplemental/cosmic_comparison_figures/TCGA-50-6594-01.png?raw=true\" style=\"text-align: center;\"></td></tr><tr><td><b>Rank</td></b><td><b>Name</td></b><td><b>Similarity (cosine)</td></b><td><b>Number of Mutations</td></b><td><b>Site Primary</td></b><td><b>Histology Primary</b></td></tr><tr><td>47</td><td><a href=http://cancer.sanger.ac.uk/cosmic/search?q=TCGA-44-6774-01 target=\"_blank\">TCGA-44-6774-01</a></td><td>0.65</td><td>449</td><td>Carcinoma</td><td>Lung</td></tr><tr><td colspan=\"6\"><img src=\"https://github.com/essigmannlab/aflatoxin_biomarker/blob/master/supplemental/cosmic_comparison_figures/TCGA-44-6774-01.png?raw=true\" style=\"text-align: center;\"></td></tr><tr><td><b>Rank</td></b><td><b>Name</td></b><td><b>Similarity (cosine)</td></b><td><b>Number of Mutations</td></b><td><b>Site Primary</td></b><td><b>Histology Primary</b></td></tr><tr><td>48</td><td><a href=http://cancer.sanger.ac.uk/cosmic/search?q=360_T target=\"_blank\">360_T</a></td><td>0.65</td><td>247</td><td>Carcinoma</td><td>Lung</td></tr><tr><td colspan=\"6\"><img src=\"https://github.com/essigmannlab/aflatoxin_biomarker/blob/master/supplemental/cosmic_comparison_figures/360_T.png?raw=true\" style=\"text-align: center;\"></td></tr><tr><td><b>Rank</td></b><td><b>Name</td></b><td><b>Similarity (cosine)</td></b><td><b>Number of Mutations</td></b><td><b>Site Primary</td></b><td><b>Histology Primary</b></td></tr><tr><td>49</td><td><a href=http://cancer.sanger.ac.uk/cosmic/search?q=TCGA-63-5131-01 target=\"_blank\">TCGA-63-5131-01</a></td><td>0.65</td><td>179</td><td>Carcinoma</td><td>Lung</td></tr><tr><td colspan=\"6\"><img src=\"https://github.com/essigmannlab/aflatoxin_biomarker/blob/master/supplemental/cosmic_comparison_figures/TCGA-63-5131-01.png?raw=true\" style=\"text-align: center;\"></td></tr><tr><td><b>Rank</td></b><td><b>Name</td></b><td><b>Similarity (cosine)</td></b><td><b>Number of Mutations</td></b><td><b>Site Primary</td></b><td><b>Histology Primary</b></td></tr><tr><td>50</td><td><a href=http://cancer.sanger.ac.uk/cosmic/search?q=TCGA-22-4613-01 target=\"_blank\">TCGA-22-4613-01</a></td><td>0.64</td><td>398</td><td>Carcinoma</td><td>Lung</td></tr><tr><td colspan=\"6\"><img src=\"https://github.com/essigmannlab/aflatoxin_biomarker/blob/master/supplemental/cosmic_comparison_figures/TCGA-22-4613-01.png?raw=true\" style=\"text-align: center;\"></td></tr><tr><td><b>Rank</td></b><td><b>Name</td></b><td><b>Similarity (cosine)</td></b><td><b>Number of Mutations</td></b><td><b>Site Primary</td></b><td><b>Histology Primary</b></td></tr><tr><td>51</td><td><a href=http://cancer.sanger.ac.uk/cosmic/search?q=TCGA-55-A492-01 target=\"_blank\">TCGA-55-A492-01</a></td><td>0.64</td><td>476</td><td>Carcinoma</td><td>Lung</td></tr><tr><td colspan=\"6\"><img src=\"https://github.com/essigmannlab/aflatoxin_biomarker/blob/master/supplemental/cosmic_comparison_figures/TCGA-55-A492-01.png?raw=true\" style=\"text-align: center;\"></td></tr><tr><td><b>Rank</td></b><td><b>Name</td></b><td><b>Similarity (cosine)</td></b><td><b>Number of Mutations</td></b><td><b>Site Primary</td></b><td><b>Histology Primary</b></td></tr><tr><td>52</td><td><a href=http://cancer.sanger.ac.uk/cosmic/search?q=TCGA-17-Z049-01 target=\"_blank\">TCGA-17-Z049-01</a></td><td>0.64</td><td>896</td><td>Carcinoma</td><td>Lung</td></tr><tr><td colspan=\"6\"><img src=\"https://github.com/essigmannlab/aflatoxin_biomarker/blob/master/supplemental/cosmic_comparison_figures/TCGA-17-Z049-01.png?raw=true\" style=\"text-align: center;\"></td></tr><tr><td><b>Rank</td></b><td><b>Name</td></b><td><b>Similarity (cosine)</td></b><td><b>Number of Mutations</td></b><td><b>Site Primary</td></b><td><b>Histology Primary</b></td></tr><tr><td>53</td><td><a href=http://cancer.sanger.ac.uk/cosmic/search?q=J11_T target=\"_blank\">J11_T</a></td><td>0.64</td><td>143</td><td>Carcinoma</td><td>Lung</td></tr><tr><td colspan=\"6\"><img src=\"https://github.com/essigmannlab/aflatoxin_biomarker/blob/master/supplemental/cosmic_comparison_figures/J11_T.png?raw=true\" style=\"text-align: center;\"></td></tr><tr><td><b>Rank</td></b><td><b>Name</td></b><td><b>Similarity (cosine)</td></b><td><b>Number of Mutations</td></b><td><b>Site Primary</td></b><td><b>Histology Primary</b></td></tr><tr><td>54</td><td><a href=http://cancer.sanger.ac.uk/cosmic/search?q=TCGA-37-5819-01 target=\"_blank\">TCGA-37-5819-01</a></td><td>0.64</td><td>467</td><td>Carcinoma</td><td>Lung</td></tr><tr><td colspan=\"6\"><img src=\"https://github.com/essigmannlab/aflatoxin_biomarker/blob/master/supplemental/cosmic_comparison_figures/TCGA-37-5819-01.png?raw=true\" style=\"text-align: center;\"></td></tr><tr><td><b>Rank</td></b><td><b>Name</td></b><td><b>Similarity (cosine)</td></b><td><b>Number of Mutations</td></b><td><b>Site Primary</td></b><td><b>Histology Primary</b></td></tr><tr><td>55</td><td><a href=http://cancer.sanger.ac.uk/cosmic/search?q=TCGA-37-4135-01 target=\"_blank\">TCGA-37-4135-01</a></td><td>0.64</td><td>200</td><td>Carcinoma</td><td>Lung</td></tr><tr><td colspan=\"6\"><img src=\"https://github.com/essigmannlab/aflatoxin_biomarker/blob/master/supplemental/cosmic_comparison_figures/TCGA-37-4135-01.png?raw=true\" style=\"text-align: center;\"></td></tr><tr><td><b>Rank</td></b><td><b>Name</td></b><td><b>Similarity (cosine)</td></b><td><b>Number of Mutations</td></b><td><b>Site Primary</td></b><td><b>Histology Primary</b></td></tr><tr><td>56</td><td><a href=http://cancer.sanger.ac.uk/cosmic/search?q=HOP-92 target=\"_blank\">HOP-92</a></td><td>0.64</td><td>166</td><td>Carcinoma</td><td>Lung</td></tr><tr><td colspan=\"6\"><img src=\"https://github.com/essigmannlab/aflatoxin_biomarker/blob/master/supplemental/cosmic_comparison_figures/HOP-92.png?raw=true\" style=\"text-align: center;\"></td></tr><tr><td><b>Rank</td></b><td><b>Name</td></b><td><b>Similarity (cosine)</td></b><td><b>Number of Mutations</td></b><td><b>Site Primary</td></b><td><b>Histology Primary</b></td></tr><tr><td>57</td><td><a href=http://cancer.sanger.ac.uk/cosmic/search?q=3206A7_017_T target=\"_blank\">3206A7_017_T</a></td><td>0.63</td><td>310</td><td>Carcinoma</td><td>Liver</td></tr><tr><td colspan=\"6\"><img src=\"https://github.com/essigmannlab/aflatoxin_biomarker/blob/master/supplemental/cosmic_comparison_figures/3206A7_017_T.png?raw=true\" style=\"text-align: center;\"></td></tr><tr><td><b>Rank</td></b><td><b>Name</td></b><td><b>Similarity (cosine)</td></b><td><b>Number of Mutations</td></b><td><b>Site Primary</td></b><td><b>Histology Primary</b></td></tr><tr><td>58</td><td><a href=http://cancer.sanger.ac.uk/cosmic/search?q=HCC153 target=\"_blank\">HCC153</a></td><td>0.63</td><td>166</td><td>Carcinoma</td><td>Liver</td></tr><tr><td colspan=\"6\"><img src=\"https://github.com/essigmannlab/aflatoxin_biomarker/blob/master/supplemental/cosmic_comparison_figures/HCC153.png?raw=true\" style=\"text-align: center;\"></td></tr><tr><td><b>Rank</td></b><td><b>Name</td></b><td><b>Similarity (cosine)</td></b><td><b>Number of Mutations</td></b><td><b>Site Primary</td></b><td><b>Histology Primary</b></td></tr><tr><td>59</td><td><a href=http://cancer.sanger.ac.uk/cosmic/search?q=TCGA-73-4668-01 target=\"_blank\">TCGA-73-4668-01</a></td><td>0.63</td><td>821</td><td>Carcinoma</td><td>Lung</td></tr><tr><td colspan=\"6\"><img src=\"https://github.com/essigmannlab/aflatoxin_biomarker/blob/master/supplemental/cosmic_comparison_figures/TCGA-73-4668-01.png?raw=true\" style=\"text-align: center;\"></td></tr><tr><td><b>Rank</td></b><td><b>Name</td></b><td><b>Similarity (cosine)</td></b><td><b>Number of Mutations</td></b><td><b>Site Primary</td></b><td><b>Histology Primary</b></td></tr><tr><td>60</td><td><a href=http://cancer.sanger.ac.uk/cosmic/search?q=TCGA-49-AARQ-01 target=\"_blank\">TCGA-49-AARQ-01</a></td><td>0.63</td><td>1101</td><td>Carcinoma</td><td>Lung</td></tr><tr><td colspan=\"6\"><img src=\"https://github.com/essigmannlab/aflatoxin_biomarker/blob/master/supplemental/cosmic_comparison_figures/TCGA-49-AARQ-01.png?raw=true\" style=\"text-align: center;\"></td></tr><tr><td><b>Rank</td></b><td><b>Name</td></b><td><b>Similarity (cosine)</td></b><td><b>Number of Mutations</td></b><td><b>Site Primary</td></b><td><b>Histology Primary</b></td></tr><tr><td>61</td><td><a href=http://cancer.sanger.ac.uk/cosmic/search?q=TCGA-CC-A7IL-01 target=\"_blank\">TCGA-CC-A7IL-01</a></td><td>0.63</td><td>145</td><td>Carcinoma</td><td>Liver</td></tr><tr><td colspan=\"6\"><img src=\"https://github.com/essigmannlab/aflatoxin_biomarker/blob/master/supplemental/cosmic_comparison_figures/TCGA-CC-A7IL-01.png?raw=true\" style=\"text-align: center;\"></td></tr><tr><td><b>Rank</td></b><td><b>Name</td></b><td><b>Similarity (cosine)</td></b><td><b>Number of Mutations</td></b><td><b>Site Primary</td></b><td><b>Histology Primary</b></td></tr><tr><td>62</td><td><a href=http://cancer.sanger.ac.uk/cosmic/search?q=LC_C21 target=\"_blank\">LC_C21</a></td><td>0.63</td><td>312</td><td>Carcinoma</td><td>Lung</td></tr><tr><td colspan=\"6\"><img src=\"https://github.com/essigmannlab/aflatoxin_biomarker/blob/master/supplemental/cosmic_comparison_figures/LC_C21.png?raw=true\" style=\"text-align: center;\"></td></tr><tr><td><b>Rank</td></b><td><b>Name</td></b><td><b>Similarity (cosine)</td></b><td><b>Number of Mutations</td></b><td><b>Site Primary</td></b><td><b>Histology Primary</b></td></tr><tr><td>63</td><td><a href=http://cancer.sanger.ac.uk/cosmic/search?q=783_T target=\"_blank\">783_T</a></td><td>0.63</td><td>323</td><td>Carcinoma</td><td>Lung</td></tr><tr><td colspan=\"6\"><img src=\"https://github.com/essigmannlab/aflatoxin_biomarker/blob/master/supplemental/cosmic_comparison_figures/783_T.png?raw=true\" style=\"text-align: center;\"></td></tr><tr><td><b>Rank</td></b><td><b>Name</td></b><td><b>Similarity (cosine)</td></b><td><b>Number of Mutations</td></b><td><b>Site Primary</td></b><td><b>Histology Primary</b></td></tr><tr><td>64</td><td><a href=http://cancer.sanger.ac.uk/cosmic/search?q=084T target=\"_blank\">084T</a></td><td>0.63</td><td>237</td><td>Carcinoma</td><td>Liver</td></tr><tr><td colspan=\"6\"><img src=\"https://github.com/essigmannlab/aflatoxin_biomarker/blob/master/supplemental/cosmic_comparison_figures/084T.png?raw=true\" style=\"text-align: center;\"></td></tr><tr><td><b>Rank</td></b><td><b>Name</td></b><td><b>Similarity (cosine)</td></b><td><b>Number of Mutations</td></b><td><b>Site Primary</td></b><td><b>Histology Primary</b></td></tr><tr><td>65</td><td><a href=http://cancer.sanger.ac.uk/cosmic/search?q=TCGA-86-8358-01 target=\"_blank\">TCGA-86-8358-01</a></td><td>0.63</td><td>1741</td><td>Carcinoma</td><td>Lung</td></tr><tr><td colspan=\"6\"><img src=\"https://github.com/essigmannlab/aflatoxin_biomarker/blob/master/supplemental/cosmic_comparison_figures/TCGA-86-8358-01.png?raw=true\" style=\"text-align: center;\"></td></tr><tr><td><b>Rank</td></b><td><b>Name</td></b><td><b>Similarity (cosine)</td></b><td><b>Number of Mutations</td></b><td><b>Site Primary</td></b><td><b>Histology Primary</b></td></tr><tr><td>66</td><td><a href=http://cancer.sanger.ac.uk/cosmic/search?q=TCGA-62-A46O-01 target=\"_blank\">TCGA-62-A46O-01</a></td><td>0.63</td><td>1402</td><td>Carcinoma</td><td>Lung</td></tr><tr><td colspan=\"6\"><img src=\"https://github.com/essigmannlab/aflatoxin_biomarker/blob/master/supplemental/cosmic_comparison_figures/TCGA-62-A46O-01.png?raw=true\" style=\"text-align: center;\"></td></tr><tr><td><b>Rank</td></b><td><b>Name</td></b><td><b>Similarity (cosine)</td></b><td><b>Number of Mutations</td></b><td><b>Site Primary</td></b><td><b>Histology Primary</b></td></tr><tr><td>67</td><td><a href=http://cancer.sanger.ac.uk/cosmic/search?q=TCGA-MP-A4TD-01 target=\"_blank\">TCGA-MP-A4TD-01</a></td><td>0.63</td><td>128</td><td>Carcinoma</td><td>Lung</td></tr><tr><td colspan=\"6\"><img src=\"https://github.com/essigmannlab/aflatoxin_biomarker/blob/master/supplemental/cosmic_comparison_figures/TCGA-MP-A4TD-01.png?raw=true\" style=\"text-align: center;\"></td></tr><tr><td><b>Rank</td></b><td><b>Name</td></b><td><b>Similarity (cosine)</td></b><td><b>Number of Mutations</td></b><td><b>Site Primary</td></b><td><b>Histology Primary</b></td></tr><tr><td>68</td><td><a href=http://cancer.sanger.ac.uk/cosmic/search?q=TCGA-66-2795-01 target=\"_blank\">TCGA-66-2795-01</a></td><td>0.62</td><td>238</td><td>Carcinoma</td><td>Lung</td></tr><tr><td colspan=\"6\"><img src=\"https://github.com/essigmannlab/aflatoxin_biomarker/blob/master/supplemental/cosmic_comparison_figures/TCGA-66-2795-01.png?raw=true\" style=\"text-align: center;\"></td></tr><tr><td><b>Rank</td></b><td><b>Name</td></b><td><b>Similarity (cosine)</td></b><td><b>Number of Mutations</td></b><td><b>Site Primary</td></b><td><b>Histology Primary</b></td></tr><tr><td>69</td><td><a href=http://cancer.sanger.ac.uk/cosmic/search?q=SNUH_G09_S1 target=\"_blank\">SNUH_G09_S1</a></td><td>0.62</td><td>94</td><td>Haematopoietic_neoplasm</td><td>Haematopoietic_and_lymphoid_tissue</td></tr><tr><td colspan=\"6\"><img src=\"https://github.com/essigmannlab/aflatoxin_biomarker/blob/master/supplemental/cosmic_comparison_figures/SNUH_G09_S1.png?raw=true\" style=\"text-align: center;\"></td></tr><tr><td><b>Rank</td></b><td><b>Name</td></b><td><b>Similarity (cosine)</td></b><td><b>Number of Mutations</td></b><td><b>Site Primary</td></b><td><b>Histology Primary</b></td></tr><tr><td>70</td><td><a href=http://cancer.sanger.ac.uk/cosmic/search?q=TCGA-55-7725-01 target=\"_blank\">TCGA-55-7725-01</a></td><td>0.62</td><td>229</td><td>Carcinoma</td><td>Lung</td></tr><tr><td colspan=\"6\"><img src=\"https://github.com/essigmannlab/aflatoxin_biomarker/blob/master/supplemental/cosmic_comparison_figures/TCGA-55-7725-01.png?raw=true\" style=\"text-align: center;\"></td></tr><tr><td><b>Rank</td></b><td><b>Name</td></b><td><b>Similarity (cosine)</td></b><td><b>Number of Mutations</td></b><td><b>Site Primary</td></b><td><b>Histology Primary</b></td></tr><tr><td>71</td><td><a href=http://cancer.sanger.ac.uk/cosmic/search?q=TCGA-17-Z001-01 target=\"_blank\">TCGA-17-Z001-01</a></td><td>0.62</td><td>324</td><td>Carcinoma</td><td>Lung</td></tr><tr><td colspan=\"6\"><img src=\"https://github.com/essigmannlab/aflatoxin_biomarker/blob/master/supplemental/cosmic_comparison_figures/TCGA-17-Z001-01.png?raw=true\" style=\"text-align: center;\"></td></tr><tr><td><b>Rank</td></b><td><b>Name</td></b><td><b>Similarity (cosine)</td></b><td><b>Number of Mutations</td></b><td><b>Site Primary</td></b><td><b>Histology Primary</b></td></tr><tr><td>72</td><td><a href=http://cancer.sanger.ac.uk/cosmic/search?q=TCGA-97-A4M0-01 target=\"_blank\">TCGA-97-A4M0-01</a></td><td>0.62</td><td>622</td><td>Carcinoma</td><td>Lung</td></tr><tr><td colspan=\"6\"><img src=\"https://github.com/essigmannlab/aflatoxin_biomarker/blob/master/supplemental/cosmic_comparison_figures/TCGA-97-A4M0-01.png?raw=true\" style=\"text-align: center;\"></td></tr><tr><td><b>Rank</td></b><td><b>Name</td></b><td><b>Similarity (cosine)</td></b><td><b>Number of Mutations</td></b><td><b>Site Primary</td></b><td><b>Histology Primary</b></td></tr><tr><td>73</td><td><a href=http://cancer.sanger.ac.uk/cosmic/search?q=OSCC-GB_01110111 target=\"_blank\">OSCC-GB_01110111</a></td><td>0.62</td><td>143</td><td>Carcinoma</td><td>Upper_aerodigestive_tract</td></tr><tr><td colspan=\"6\"><img src=\"https://github.com/essigmannlab/aflatoxin_biomarker/blob/master/supplemental/cosmic_comparison_figures/OSCC-GB_01110111.png?raw=true\" style=\"text-align: center;\"></td></tr><tr><td><b>Rank</td></b><td><b>Name</td></b><td><b>Similarity (cosine)</td></b><td><b>Number of Mutations</td></b><td><b>Site Primary</td></b><td><b>Histology Primary</b></td></tr><tr><td>74</td><td><a href=http://cancer.sanger.ac.uk/cosmic/search?q=TCGA-33-4586-01 target=\"_blank\">TCGA-33-4586-01</a></td><td>0.62</td><td>215</td><td>Carcinoma</td><td>Lung</td></tr><tr><td colspan=\"6\"><img src=\"https://github.com/essigmannlab/aflatoxin_biomarker/blob/master/supplemental/cosmic_comparison_figures/TCGA-33-4586-01.png?raw=true\" style=\"text-align: center;\"></td></tr><tr><td><b>Rank</td></b><td><b>Name</td></b><td><b>Similarity (cosine)</td></b><td><b>Number of Mutations</td></b><td><b>Site Primary</td></b><td><b>Histology Primary</b></td></tr><tr><td>75</td><td><a href=http://cancer.sanger.ac.uk/cosmic/search?q=4132_T target=\"_blank\">4132_T</a></td><td>0.62</td><td>298</td><td>Carcinoma</td><td>Lung</td></tr><tr><td colspan=\"6\"><img src=\"https://github.com/essigmannlab/aflatoxin_biomarker/blob/master/supplemental/cosmic_comparison_figures/4132_T.png?raw=true\" style=\"text-align: center;\"></td></tr><tr><td><b>Rank</td></b><td><b>Name</td></b><td><b>Similarity (cosine)</td></b><td><b>Number of Mutations</td></b><td><b>Site Primary</td></b><td><b>Histology Primary</b></td></tr><tr><td>76</td><td><a href=http://cancer.sanger.ac.uk/cosmic/search?q=S00830 target=\"_blank\">S00830</a></td><td>0.62</td><td>178</td><td>Carcinoma</td><td>Lung</td></tr><tr><td colspan=\"6\"><img src=\"https://github.com/essigmannlab/aflatoxin_biomarker/blob/master/supplemental/cosmic_comparison_figures/S00830.png?raw=true\" style=\"text-align: center;\"></td></tr><tr><td><b>Rank</td></b><td><b>Name</td></b><td><b>Similarity (cosine)</td></b><td><b>Number of Mutations</td></b><td><b>Site Primary</td></b><td><b>Histology Primary</b></td></tr><tr><td>77</td><td><a href=http://cancer.sanger.ac.uk/cosmic/search?q=TCGA-69-7979-01 target=\"_blank\">TCGA-69-7979-01</a></td><td>0.62</td><td>2268</td><td>Carcinoma</td><td>Lung</td></tr><tr><td colspan=\"6\"><img src=\"https://github.com/essigmannlab/aflatoxin_biomarker/blob/master/supplemental/cosmic_comparison_figures/TCGA-69-7979-01.png?raw=true\" style=\"text-align: center;\"></td></tr><tr><td><b>Rank</td></b><td><b>Name</td></b><td><b>Similarity (cosine)</td></b><td><b>Number of Mutations</td></b><td><b>Site Primary</td></b><td><b>Histology Primary</b></td></tr><tr><td>78</td><td><a href=http://cancer.sanger.ac.uk/cosmic/search?q=TCGA-44-8120-01 target=\"_blank\">TCGA-44-8120-01</a></td><td>0.62</td><td>992</td><td>Carcinoma</td><td>Lung</td></tr><tr><td colspan=\"6\"><img src=\"https://github.com/essigmannlab/aflatoxin_biomarker/blob/master/supplemental/cosmic_comparison_figures/TCGA-44-8120-01.png?raw=true\" style=\"text-align: center;\"></td></tr><tr><td><b>Rank</td></b><td><b>Name</td></b><td><b>Similarity (cosine)</td></b><td><b>Number of Mutations</td></b><td><b>Site Primary</td></b><td><b>Histology Primary</b></td></tr><tr><td>79</td><td><a href=http://cancer.sanger.ac.uk/cosmic/search?q=TCGA-55-A490-01 target=\"_blank\">TCGA-55-A490-01</a></td><td>0.62</td><td>2054</td><td>Carcinoma</td><td>Lung</td></tr><tr><td colspan=\"6\"><img src=\"https://github.com/essigmannlab/aflatoxin_biomarker/blob/master/supplemental/cosmic_comparison_figures/TCGA-55-A490-01.png?raw=true\" style=\"text-align: center;\"></td></tr><tr><td><b>Rank</td></b><td><b>Name</td></b><td><b>Similarity (cosine)</td></b><td><b>Number of Mutations</td></b><td><b>Site Primary</td></b><td><b>Histology Primary</b></td></tr><tr><td>80</td><td><a href=http://cancer.sanger.ac.uk/cosmic/search?q=TCGA-38-4626-01 target=\"_blank\">TCGA-38-4626-01</a></td><td>0.62</td><td>283</td><td>Carcinoma</td><td>Lung</td></tr><tr><td colspan=\"6\"><img src=\"https://github.com/essigmannlab/aflatoxin_biomarker/blob/master/supplemental/cosmic_comparison_figures/TCGA-38-4626-01.png?raw=true\" style=\"text-align: center;\"></td></tr><tr><td><b>Rank</td></b><td><b>Name</td></b><td><b>Similarity (cosine)</td></b><td><b>Number of Mutations</td></b><td><b>Site Primary</td></b><td><b>Histology Primary</b></td></tr><tr><td>81</td><td><a href=http://cancer.sanger.ac.uk/cosmic/search?q=TCGA-55-A493-01 target=\"_blank\">TCGA-55-A493-01</a></td><td>0.62</td><td>369</td><td>Carcinoma</td><td>Lung</td></tr><tr><td colspan=\"6\"><img src=\"https://github.com/essigmannlab/aflatoxin_biomarker/blob/master/supplemental/cosmic_comparison_figures/TCGA-55-A493-01.png?raw=true\" style=\"text-align: center;\"></td></tr><tr><td><b>Rank</td></b><td><b>Name</td></b><td><b>Similarity (cosine)</td></b><td><b>Number of Mutations</td></b><td><b>Site Primary</td></b><td><b>Histology Primary</b></td></tr><tr><td>82</td><td><a href=http://cancer.sanger.ac.uk/cosmic/search?q=TCGA-55-8514-01 target=\"_blank\">TCGA-55-8514-01</a></td><td>0.62</td><td>407</td><td>Carcinoma</td><td>Lung</td></tr><tr><td colspan=\"6\"><img src=\"https://github.com/essigmannlab/aflatoxin_biomarker/blob/master/supplemental/cosmic_comparison_figures/TCGA-55-8514-01.png?raw=true\" style=\"text-align: center;\"></td></tr><tr><td><b>Rank</td></b><td><b>Name</td></b><td><b>Similarity (cosine)</td></b><td><b>Number of Mutations</td></b><td><b>Site Primary</td></b><td><b>Histology Primary</b></td></tr><tr><td>83</td><td><a href=http://cancer.sanger.ac.uk/cosmic/search?q=TCGA-34-2608-01 target=\"_blank\">TCGA-34-2608-01</a></td><td>0.62</td><td>119</td><td>Carcinoma</td><td>Lung</td></tr><tr><td colspan=\"6\"><img src=\"https://github.com/essigmannlab/aflatoxin_biomarker/blob/master/supplemental/cosmic_comparison_figures/TCGA-34-2608-01.png?raw=true\" style=\"text-align: center;\"></td></tr><tr><td><b>Rank</td></b><td><b>Name</td></b><td><b>Similarity (cosine)</td></b><td><b>Number of Mutations</td></b><td><b>Site Primary</td></b><td><b>Histology Primary</b></td></tr><tr><td>84</td><td><a href=http://cancer.sanger.ac.uk/cosmic/search?q=HCC153T target=\"_blank\">HCC153T</a></td><td>0.61</td><td>178</td><td>Carcinoma</td><td>Liver</td></tr><tr><td colspan=\"6\"><img src=\"https://github.com/essigmannlab/aflatoxin_biomarker/blob/master/supplemental/cosmic_comparison_figures/HCC153T.png?raw=true\" style=\"text-align: center;\"></td></tr><tr><td><b>Rank</td></b><td><b>Name</td></b><td><b>Similarity (cosine)</td></b><td><b>Number of Mutations</td></b><td><b>Site Primary</td></b><td><b>Histology Primary</b></td></tr><tr><td>85</td><td><a href=http://cancer.sanger.ac.uk/cosmic/search?q=TCGA-97-7937-01 target=\"_blank\">TCGA-97-7937-01</a></td><td>0.61</td><td>759</td><td>Carcinoma</td><td>Lung</td></tr><tr><td colspan=\"6\"><img src=\"https://github.com/essigmannlab/aflatoxin_biomarker/blob/master/supplemental/cosmic_comparison_figures/TCGA-97-7937-01.png?raw=true\" style=\"text-align: center;\"></td></tr><tr><td><b>Rank</td></b><td><b>Name</td></b><td><b>Similarity (cosine)</td></b><td><b>Number of Mutations</td></b><td><b>Site Primary</td></b><td><b>Histology Primary</b></td></tr><tr><td>86</td><td><a href=http://cancer.sanger.ac.uk/cosmic/search?q=TCGA-L9-A443-01 target=\"_blank\">TCGA-L9-A443-01</a></td><td>0.61</td><td>407</td><td>Carcinoma</td><td>Lung</td></tr><tr><td colspan=\"6\"><img src=\"https://github.com/essigmannlab/aflatoxin_biomarker/blob/master/supplemental/cosmic_comparison_figures/TCGA-L9-A443-01.png?raw=true\" style=\"text-align: center;\"></td></tr><tr><td><b>Rank</td></b><td><b>Name</td></b><td><b>Similarity (cosine)</td></b><td><b>Number of Mutations</td></b><td><b>Site Primary</td></b><td><b>Histology Primary</b></td></tr><tr><td>87</td><td><a href=http://cancer.sanger.ac.uk/cosmic/search?q=TCGA-86-8672-01 target=\"_blank\">TCGA-86-8672-01</a></td><td>0.61</td><td>446</td><td>Carcinoma</td><td>Lung</td></tr><tr><td colspan=\"6\"><img src=\"https://github.com/essigmannlab/aflatoxin_biomarker/blob/master/supplemental/cosmic_comparison_figures/TCGA-86-8672-01.png?raw=true\" style=\"text-align: center;\"></td></tr><tr><td><b>Rank</td></b><td><b>Name</td></b><td><b>Similarity (cosine)</td></b><td><b>Number of Mutations</td></b><td><b>Site Primary</td></b><td><b>Histology Primary</b></td></tr><tr><td>88</td><td><a href=http://cancer.sanger.ac.uk/cosmic/search?q=TCGA-49-AAR2-01 target=\"_blank\">TCGA-49-AAR2-01</a></td><td>0.61</td><td>597</td><td>Carcinoma</td><td>Lung</td></tr><tr><td colspan=\"6\"><img src=\"https://github.com/essigmannlab/aflatoxin_biomarker/blob/master/supplemental/cosmic_comparison_figures/TCGA-49-AAR2-01.png?raw=true\" style=\"text-align: center;\"></td></tr><tr><td><b>Rank</td></b><td><b>Name</td></b><td><b>Similarity (cosine)</td></b><td><b>Number of Mutations</td></b><td><b>Site Primary</td></b><td><b>Histology Primary</b></td></tr><tr><td>89</td><td><a href=http://cancer.sanger.ac.uk/cosmic/search?q=OSCC-GB_00580111 target=\"_blank\">OSCC-GB_00580111</a></td><td>0.61</td><td>175</td><td>Carcinoma</td><td>Upper_aerodigestive_tract</td></tr><tr><td colspan=\"6\"><img src=\"https://github.com/essigmannlab/aflatoxin_biomarker/blob/master/supplemental/cosmic_comparison_figures/OSCC-GB_00580111.png?raw=true\" style=\"text-align: center;\"></td></tr><tr><td><b>Rank</td></b><td><b>Name</td></b><td><b>Similarity (cosine)</td></b><td><b>Number of Mutations</td></b><td><b>Site Primary</td></b><td><b>Histology Primary</b></td></tr><tr><td>90</td><td><a href=http://cancer.sanger.ac.uk/cosmic/search?q=TCGA-55-8302-01 target=\"_blank\">TCGA-55-8302-01</a></td><td>0.61</td><td>1118</td><td>Carcinoma</td><td>Lung</td></tr><tr><td colspan=\"6\"><img src=\"https://github.com/essigmannlab/aflatoxin_biomarker/blob/master/supplemental/cosmic_comparison_figures/TCGA-55-8302-01.png?raw=true\" style=\"text-align: center;\"></td></tr><tr><td><b>Rank</td></b><td><b>Name</td></b><td><b>Similarity (cosine)</td></b><td><b>Number of Mutations</td></b><td><b>Site Primary</td></b><td><b>Histology Primary</b></td></tr><tr><td>91</td><td><a href=http://cancer.sanger.ac.uk/cosmic/search?q=TCGA-93-7347-01 target=\"_blank\">TCGA-93-7347-01</a></td><td>0.60</td><td>199</td><td>Carcinoma</td><td>Lung</td></tr><tr><td colspan=\"6\"><img src=\"https://github.com/essigmannlab/aflatoxin_biomarker/blob/master/supplemental/cosmic_comparison_figures/TCGA-93-7347-01.png?raw=true\" style=\"text-align: center;\"></td></tr><tr><td><b>Rank</td></b><td><b>Name</td></b><td><b>Similarity (cosine)</td></b><td><b>Number of Mutations</td></b><td><b>Site Primary</td></b><td><b>Histology Primary</b></td></tr><tr><td>92</td><td><a href=http://cancer.sanger.ac.uk/cosmic/search?q=TCGA-MP-A4TK-01 target=\"_blank\">TCGA-MP-A4TK-01</a></td><td>0.60</td><td>525</td><td>Carcinoma</td><td>Lung</td></tr><tr><td colspan=\"6\"><img src=\"https://github.com/essigmannlab/aflatoxin_biomarker/blob/master/supplemental/cosmic_comparison_figures/TCGA-MP-A4TK-01.png?raw=true\" style=\"text-align: center;\"></td></tr><tr><td><b>Rank</td></b><td><b>Name</td></b><td><b>Similarity (cosine)</td></b><td><b>Number of Mutations</td></b><td><b>Site Primary</td></b><td><b>Histology Primary</b></td></tr><tr><td>93</td><td><a href=http://cancer.sanger.ac.uk/cosmic/search?q=TCGA-50-5930-01 target=\"_blank\">TCGA-50-5930-01</a></td><td>0.60</td><td>1732</td><td>Carcinoma</td><td>Lung</td></tr><tr><td colspan=\"6\"><img src=\"https://github.com/essigmannlab/aflatoxin_biomarker/blob/master/supplemental/cosmic_comparison_figures/TCGA-50-5930-01.png?raw=true\" style=\"text-align: center;\"></td></tr><tr><td><b>Rank</td></b><td><b>Name</td></b><td><b>Similarity (cosine)</td></b><td><b>Number of Mutations</td></b><td><b>Site Primary</td></b><td><b>Histology Primary</b></td></tr><tr><td>94</td><td><a href=http://cancer.sanger.ac.uk/cosmic/search?q=3402_T target=\"_blank\">3402_T</a></td><td>0.60</td><td>292</td><td>Carcinoma</td><td>Lung</td></tr><tr><td colspan=\"6\"><img src=\"https://github.com/essigmannlab/aflatoxin_biomarker/blob/master/supplemental/cosmic_comparison_figures/3402_T.png?raw=true\" style=\"text-align: center;\"></td></tr><tr><td><b>Rank</td></b><td><b>Name</td></b><td><b>Similarity (cosine)</td></b><td><b>Number of Mutations</td></b><td><b>Site Primary</td></b><td><b>Histology Primary</b></td></tr><tr><td>95</td><td><a href=http://cancer.sanger.ac.uk/cosmic/search?q=TCGA-L9-A7SV-01 target=\"_blank\">TCGA-L9-A7SV-01</a></td><td>0.60</td><td>2511</td><td>Carcinoma</td><td>Lung</td></tr><tr><td colspan=\"6\"><img src=\"https://github.com/essigmannlab/aflatoxin_biomarker/blob/master/supplemental/cosmic_comparison_figures/TCGA-L9-A7SV-01.png?raw=true\" style=\"text-align: center;\"></td></tr><tr><td><b>Rank</td></b><td><b>Name</td></b><td><b>Similarity (cosine)</td></b><td><b>Number of Mutations</td></b><td><b>Site Primary</td></b><td><b>Histology Primary</b></td></tr><tr><td>96</td><td><a href=http://cancer.sanger.ac.uk/cosmic/search?q=TCGA-63-6202-01 target=\"_blank\">TCGA-63-6202-01</a></td><td>0.60</td><td>224</td><td>Carcinoma</td><td>Lung</td></tr><tr><td colspan=\"6\"><img src=\"https://github.com/essigmannlab/aflatoxin_biomarker/blob/master/supplemental/cosmic_comparison_figures/TCGA-63-6202-01.png?raw=true\" style=\"text-align: center;\"></td></tr><tr><td><b>Rank</td></b><td><b>Name</td></b><td><b>Similarity (cosine)</td></b><td><b>Number of Mutations</td></b><td><b>Site Primary</td></b><td><b>Histology Primary</b></td></tr><tr><td>97</td><td><a href=http://cancer.sanger.ac.uk/cosmic/search?q=TCGA-75-7027-01 target=\"_blank\">TCGA-75-7027-01</a></td><td>0.60</td><td>377</td><td>Carcinoma</td><td>Lung</td></tr><tr><td colspan=\"6\"><img src=\"https://github.com/essigmannlab/aflatoxin_biomarker/blob/master/supplemental/cosmic_comparison_figures/TCGA-75-7027-01.png?raw=true\" style=\"text-align: center;\"></td></tr><tr><td><b>Rank</td></b><td><b>Name</td></b><td><b>Similarity (cosine)</td></b><td><b>Number of Mutations</td></b><td><b>Site Primary</td></b><td><b>Histology Primary</b></td></tr><tr><td>98</td><td><a href=http://cancer.sanger.ac.uk/cosmic/search?q=522_T target=\"_blank\">522_T</a></td><td>0.60</td><td>446</td><td>Carcinoma</td><td>Lung</td></tr><tr><td colspan=\"6\"><img src=\"https://github.com/essigmannlab/aflatoxin_biomarker/blob/master/supplemental/cosmic_comparison_figures/522_T.png?raw=true\" style=\"text-align: center;\"></td></tr><tr><td><b>Rank</td></b><td><b>Name</td></b><td><b>Similarity (cosine)</td></b><td><b>Number of Mutations</td></b><td><b>Site Primary</td></b><td><b>Histology Primary</b></td></tr><tr><td>99</td><td><a href=http://cancer.sanger.ac.uk/cosmic/search?q=TCGA-91-6829-01 target=\"_blank\">TCGA-91-6829-01</a></td><td>0.60</td><td>947</td><td>Carcinoma</td><td>Lung</td></tr><tr><td colspan=\"6\"><img src=\"https://github.com/essigmannlab/aflatoxin_biomarker/blob/master/supplemental/cosmic_comparison_figures/TCGA-91-6829-01.png?raw=true\" style=\"text-align: center;\"></td></tr><tr><td><b>Rank</td></b><td><b>Name</td></b><td><b>Similarity (cosine)</td></b><td><b>Number of Mutations</td></b><td><b>Site Primary</td></b><td><b>Histology Primary</b></td></tr><tr><td>100</td><td><a href=http://cancer.sanger.ac.uk/cosmic/search?q=TCGA-86-8054-01 target=\"_blank\">TCGA-86-8054-01</a></td><td>0.60</td><td>358</td><td>Carcinoma</td><td>Lung</td></tr><tr><td colspan=\"6\"><img src=\"https://github.com/essigmannlab/aflatoxin_biomarker/blob/master/supplemental/cosmic_comparison_figures/TCGA-86-8054-01.png?raw=true\" style=\"text-align: center;\"></td></tr></table>"
      ],
      "text/plain": [
       "<IPython.core.display.HTML object>"
      ]
     },
     "metadata": {},
     "output_type": "display_data"
    }
   ],
   "source": [
    "display(HTML('<p><h1>Top 100 Tumour Samples Most Similar to A10</h1></p>'.format(len(merged_samples), cutoff)))\n",
    "\n",
    "render = ''\n",
    "image_repo = 'https://github.com/essigmannlab/aflatoxin_biomarker/blob/master/supplemental/cosmic_comparison_figures/{}.png?raw=true'\n",
    "\n",
    "header = '</td></b><td><b>'.join(['Rank', 'Name', 'Similarity (cosine)',\n",
    "                                  'Number of Mutations', 'Site Primary',\n",
    "                                  'Histology Primary'])\n",
    "\n",
    "for row in data:\n",
    "    render += '<tr><td><b>'\n",
    "    render += header\n",
    "    render += '</b></td></tr>'\n",
    "\n",
    "    render += '<tr><td>'\n",
    "    render += '</td><td>'.join(str(_) for _ in row)\n",
    "    render += '</td></tr>'\n",
    "\n",
    "    render += '<tr><td colspan=\"6\">' \n",
    "    name = image_repo.format(row[1]).split('>')[1].split('<')[0]\n",
    "\n",
    "    render += '<img src=\"{}\" style=\"text-align: center;\">'.format(image_repo.format(name))\n",
    "    render += '</td></tr>'\n",
    "\n",
    "display(HTML(\n",
    "    '<table>{}</table>'.format(render)\n",
    "))"
   ]
  }
 ],
 "metadata": {
  "kernelspec": {
   "display_name": "Python [default]",
   "language": "python",
   "name": "python3"
  },
  "language_info": {
   "codemirror_mode": {
    "name": "ipython",
    "version": 3
   },
   "file_extension": ".py",
   "mimetype": "text/x-python",
   "name": "python",
   "nbconvert_exporter": "python",
   "pygments_lexer": "ipython3",
   "version": "3.5.2"
  }
 },
 "nbformat": 4,
 "nbformat_minor": 0
}
